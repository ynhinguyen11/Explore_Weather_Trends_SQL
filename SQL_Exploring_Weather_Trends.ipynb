{
 "cells": [
  {
   "cell_type": "markdown",
   "id": "bed7d4cc",
   "metadata": {},
   "source": [
    "# Exploring Trends Between Global temperature and Philadelphia temperature"
   ]
  },
  {
   "cell_type": "markdown",
   "id": "eb608ecd",
   "metadata": {},
   "source": [
    "## Introduction\n",
    "Think about other ways to compare and find insights from this data beyond interpreting the chart. Hear are a few ideas:\n",
    "\n",
    "- What's the correlation coefficient?\n",
    "- Can you estimate the average temperature in your city based on the average global temperature?\n",
    "- Multiple cities - Add your favorite cities from around the globe to your visualization. What do you learn about them?"
   ]
  },
  {
   "cell_type": "markdown",
   "id": "b088bab6",
   "metadata": {},
   "source": [
    "## Observation of temperature trend"
   ]
  },
  {
   "cell_type": "code",
   "execution_count": 4,
   "id": "079f4e61",
   "metadata": {},
   "outputs": [],
   "source": [
    "import pandas as pd\n",
    "import numpy as np\n",
    "import matplotlib.pyplot as plt"
   ]
  },
  {
   "cell_type": "code",
   "execution_count": 5,
   "id": "542fb8f1",
   "metadata": {},
   "outputs": [
    {
     "data": {
      "text/html": [
       "<div>\n",
       "<style scoped>\n",
       "    .dataframe tbody tr th:only-of-type {\n",
       "        vertical-align: middle;\n",
       "    }\n",
       "\n",
       "    .dataframe tbody tr th {\n",
       "        vertical-align: top;\n",
       "    }\n",
       "\n",
       "    .dataframe thead th {\n",
       "        text-align: right;\n",
       "    }\n",
       "</style>\n",
       "<table border=\"1\" class=\"dataframe\">\n",
       "  <thead>\n",
       "    <tr style=\"text-align: right;\">\n",
       "      <th></th>\n",
       "      <th>year</th>\n",
       "      <th>city_avg_temp</th>\n",
       "      <th>global_avg_temp</th>\n",
       "    </tr>\n",
       "  </thead>\n",
       "  <tbody>\n",
       "    <tr>\n",
       "      <th>0</th>\n",
       "      <td>1743</td>\n",
       "      <td>6.07</td>\n",
       "      <td>NaN</td>\n",
       "    </tr>\n",
       "    <tr>\n",
       "      <th>1</th>\n",
       "      <td>1744</td>\n",
       "      <td>13.74</td>\n",
       "      <td>NaN</td>\n",
       "    </tr>\n",
       "    <tr>\n",
       "      <th>2</th>\n",
       "      <td>1745</td>\n",
       "      <td>3.96</td>\n",
       "      <td>NaN</td>\n",
       "    </tr>\n",
       "    <tr>\n",
       "      <th>3</th>\n",
       "      <td>1746</td>\n",
       "      <td>NaN</td>\n",
       "      <td>NaN</td>\n",
       "    </tr>\n",
       "    <tr>\n",
       "      <th>4</th>\n",
       "      <td>1747</td>\n",
       "      <td>NaN</td>\n",
       "      <td>NaN</td>\n",
       "    </tr>\n",
       "  </tbody>\n",
       "</table>\n",
       "</div>"
      ],
      "text/plain": [
       "   year  city_avg_temp  global_avg_temp\n",
       "0  1743           6.07              NaN\n",
       "1  1744          13.74              NaN\n",
       "2  1745           3.96              NaN\n",
       "3  1746            NaN              NaN\n",
       "4  1747            NaN              NaN"
      ]
     },
     "execution_count": 5,
     "metadata": {},
     "output_type": "execute_result"
    }
   ],
   "source": [
    "# Create dataframe of Philadelphia's and global's yearly avg. temp.\n",
    "phillydf = pd.read_sql(\"\"\"\n",
    "            SELECT ct.year, ct.avg_temp AS city_avg_temp, gl.avg_temp AS global_avg_temp\n",
    "            FROM city_data AS ct\n",
    "            LEFT JOIN global_data AS gl\n",
    "                ON ct.year = gl.year\n",
    "            WHERE ct.city = 'Philadelphia'\n",
    "            ORDER BY ct.year\"\"\", con = credentials)\n",
    "phillydf.head()"
   ]
  },
  {
   "cell_type": "code",
   "execution_count": 6,
   "id": "26723eed",
   "metadata": {},
   "outputs": [
    {
     "data": {
      "text/html": [
       "<div>\n",
       "<style scoped>\n",
       "    .dataframe tbody tr th:only-of-type {\n",
       "        vertical-align: middle;\n",
       "    }\n",
       "\n",
       "    .dataframe tbody tr th {\n",
       "        vertical-align: top;\n",
       "    }\n",
       "\n",
       "    .dataframe thead th {\n",
       "        text-align: right;\n",
       "    }\n",
       "</style>\n",
       "<table border=\"1\" class=\"dataframe\">\n",
       "  <thead>\n",
       "    <tr style=\"text-align: right;\">\n",
       "      <th></th>\n",
       "      <th>year</th>\n",
       "      <th>city_avg_temp</th>\n",
       "      <th>global_avg_temp</th>\n",
       "    </tr>\n",
       "  </thead>\n",
       "  <tbody>\n",
       "    <tr>\n",
       "      <th>count</th>\n",
       "      <td>271.000000</td>\n",
       "      <td>266.000000</td>\n",
       "      <td>264.000000</td>\n",
       "    </tr>\n",
       "    <tr>\n",
       "      <th>mean</th>\n",
       "      <td>1878.000000</td>\n",
       "      <td>11.779173</td>\n",
       "      <td>8.359394</td>\n",
       "    </tr>\n",
       "    <tr>\n",
       "      <th>std</th>\n",
       "      <td>78.375166</td>\n",
       "      <td>1.178994</td>\n",
       "      <td>0.575184</td>\n",
       "    </tr>\n",
       "    <tr>\n",
       "      <th>min</th>\n",
       "      <td>1743.000000</td>\n",
       "      <td>3.450000</td>\n",
       "      <td>5.780000</td>\n",
       "    </tr>\n",
       "    <tr>\n",
       "      <th>25%</th>\n",
       "      <td>1810.500000</td>\n",
       "      <td>11.382500</td>\n",
       "      <td>8.077500</td>\n",
       "    </tr>\n",
       "    <tr>\n",
       "      <th>50%</th>\n",
       "      <td>1878.000000</td>\n",
       "      <td>11.860000</td>\n",
       "      <td>8.365000</td>\n",
       "    </tr>\n",
       "    <tr>\n",
       "      <th>75%</th>\n",
       "      <td>1945.500000</td>\n",
       "      <td>12.385000</td>\n",
       "      <td>8.700000</td>\n",
       "    </tr>\n",
       "    <tr>\n",
       "      <th>max</th>\n",
       "      <td>2013.000000</td>\n",
       "      <td>14.050000</td>\n",
       "      <td>9.730000</td>\n",
       "    </tr>\n",
       "  </tbody>\n",
       "</table>\n",
       "</div>"
      ],
      "text/plain": [
       "              year  city_avg_temp  global_avg_temp\n",
       "count   271.000000     266.000000       264.000000\n",
       "mean   1878.000000      11.779173         8.359394\n",
       "std      78.375166       1.178994         0.575184\n",
       "min    1743.000000       3.450000         5.780000\n",
       "25%    1810.500000      11.382500         8.077500\n",
       "50%    1878.000000      11.860000         8.365000\n",
       "75%    1945.500000      12.385000         8.700000\n",
       "max    2013.000000      14.050000         9.730000"
      ]
     },
     "execution_count": 6,
     "metadata": {},
     "output_type": "execute_result"
    }
   ],
   "source": [
    "phillydf.describe()"
   ]
  },
  {
   "cell_type": "code",
   "execution_count": 7,
   "id": "aa4e87c2",
   "metadata": {},
   "outputs": [
    {
     "name": "stdout",
     "output_type": "stream",
     "text": [
      "<class 'pandas.core.frame.DataFrame'>\n",
      "RangeIndex: 271 entries, 0 to 270\n",
      "Data columns (total 3 columns):\n",
      " #   Column           Non-Null Count  Dtype  \n",
      "---  ------           --------------  -----  \n",
      " 0   year             271 non-null    int64  \n",
      " 1   city_avg_temp    266 non-null    float64\n",
      " 2   global_avg_temp  264 non-null    float64\n",
      "dtypes: float64(2), int64(1)\n",
      "memory usage: 6.5 KB\n"
     ]
    }
   ],
   "source": [
    "phillydf.info()"
   ]
  },
  {
   "cell_type": "markdown",
   "id": "621eb62f",
   "metadata": {},
   "source": [
    "## Clean data\n",
    "Null value is not just in Philly. It is also in New York. So it's not that random"
   ]
  },
  {
   "cell_type": "code",
   "execution_count": 8,
   "id": "6f1dd5ce",
   "metadata": {},
   "outputs": [],
   "source": [
    "# Remove NaN rows from global_avg_temp column since it has minimal impact on the dataset city and global temperature mean and distribution\n",
    "phillydf.dropna(subset=['global_avg_temp'], inplace = True)"
   ]
  },
  {
   "cell_type": "code",
   "execution_count": 9,
   "id": "841a7e51",
   "metadata": {},
   "outputs": [],
   "source": [
    "# Replace last NaN with interpolation since it has the smallest difference between the mean and std from the original\n",
    "phillydf.interpolate(method='linear', inplace=True)"
   ]
  },
  {
   "cell_type": "code",
   "execution_count": 10,
   "id": "59afbb42",
   "metadata": {},
   "outputs": [
    {
     "name": "stdout",
     "output_type": "stream",
     "text": [
      "<class 'pandas.core.frame.DataFrame'>\n",
      "Int64Index: 264 entries, 7 to 270\n",
      "Data columns (total 3 columns):\n",
      " #   Column           Non-Null Count  Dtype  \n",
      "---  ------           --------------  -----  \n",
      " 0   year             264 non-null    int64  \n",
      " 1   city_avg_temp    264 non-null    float64\n",
      " 2   global_avg_temp  264 non-null    float64\n",
      "dtypes: float64(2), int64(1)\n",
      "memory usage: 8.2 KB\n"
     ]
    }
   ],
   "source": [
    "phillydf.info()"
   ]
  },
  {
   "cell_type": "code",
   "execution_count": 11,
   "id": "75bfc206",
   "metadata": {
    "scrolled": true
   },
   "outputs": [],
   "source": [
    "# Reset index\n",
    "phillydf.reset_index(drop=True, inplace=True)"
   ]
  },
  {
   "cell_type": "markdown",
   "id": "49a6252e",
   "metadata": {},
   "source": [
    "## Create moving average\n",
    "Have verified in Excel that moving avg calc is correct"
   ]
  },
  {
   "cell_type": "markdown",
   "id": "867401a6",
   "metadata": {},
   "source": [
    "### City temperature moving average"
   ]
  },
  {
   "cell_type": "code",
   "execution_count": 12,
   "id": "920e109f",
   "metadata": {},
   "outputs": [],
   "source": [
    "city_moving_avg = []\n",
    "for counter in range(len(phillydf.loc[49:,:])):\n",
    "    city_moving_avg.append(phillydf.loc[counter:(49 + counter),'city_avg_temp'].mean())"
   ]
  },
  {
   "cell_type": "markdown",
   "id": "dba764af",
   "metadata": {},
   "source": [
    "### Global temperature moving average"
   ]
  },
  {
   "cell_type": "code",
   "execution_count": 13,
   "id": "07a7732d",
   "metadata": {},
   "outputs": [],
   "source": [
    "global_moving_avg = []\n",
    "for counter in range(len(phillydf.loc[49:,:])):\n",
    "    global_moving_avg.append(phillydf.loc[counter:(49 + counter),'global_avg_temp'].mean())"
   ]
  },
  {
   "cell_type": "code",
   "execution_count": 14,
   "id": "8e8b9b6f",
   "metadata": {},
   "outputs": [],
   "source": [
    "# Create 50 years moving average df\n",
    "moving_avg = pd.DataFrame()\n",
    "moving_avg['year'] = phillydf.loc[49:,'year']\n",
    "moving_avg['city_moving_avg_temp'] = city_moving_avg\n",
    "moving_avg['global_moving_avg_temp'] = global_moving_avg"
   ]
  },
  {
   "cell_type": "code",
   "execution_count": 15,
   "id": "660d4d50",
   "metadata": {},
   "outputs": [
    {
     "data": {
      "text/html": [
       "<div>\n",
       "<style scoped>\n",
       "    .dataframe tbody tr th:only-of-type {\n",
       "        vertical-align: middle;\n",
       "    }\n",
       "\n",
       "    .dataframe tbody tr th {\n",
       "        vertical-align: top;\n",
       "    }\n",
       "\n",
       "    .dataframe thead th {\n",
       "        text-align: right;\n",
       "    }\n",
       "</style>\n",
       "<table border=\"1\" class=\"dataframe\">\n",
       "  <thead>\n",
       "    <tr style=\"text-align: right;\">\n",
       "      <th></th>\n",
       "      <th>year</th>\n",
       "      <th>city_moving_avg_temp</th>\n",
       "      <th>global_moving_avg_temp</th>\n",
       "    </tr>\n",
       "  </thead>\n",
       "  <tbody>\n",
       "    <tr>\n",
       "      <th>49</th>\n",
       "      <td>1799</td>\n",
       "      <td>11.1780</td>\n",
       "      <td>8.1774</td>\n",
       "    </tr>\n",
       "    <tr>\n",
       "      <th>50</th>\n",
       "      <td>1800</td>\n",
       "      <td>11.1670</td>\n",
       "      <td>8.1726</td>\n",
       "    </tr>\n",
       "    <tr>\n",
       "      <th>51</th>\n",
       "      <td>1801</td>\n",
       "      <td>11.1504</td>\n",
       "      <td>8.1848</td>\n",
       "    </tr>\n",
       "    <tr>\n",
       "      <th>52</th>\n",
       "      <td>1802</td>\n",
       "      <td>11.2884</td>\n",
       "      <td>8.2408</td>\n",
       "    </tr>\n",
       "    <tr>\n",
       "      <th>53</th>\n",
       "      <td>1803</td>\n",
       "      <td>11.2998</td>\n",
       "      <td>8.2430</td>\n",
       "    </tr>\n",
       "  </tbody>\n",
       "</table>\n",
       "</div>"
      ],
      "text/plain": [
       "    year  city_moving_avg_temp  global_moving_avg_temp\n",
       "49  1799               11.1780                  8.1774\n",
       "50  1800               11.1670                  8.1726\n",
       "51  1801               11.1504                  8.1848\n",
       "52  1802               11.2884                  8.2408\n",
       "53  1803               11.2998                  8.2430"
      ]
     },
     "execution_count": 15,
     "metadata": {},
     "output_type": "execute_result"
    }
   ],
   "source": [
    "moving_avg.head()"
   ]
  },
  {
   "cell_type": "markdown",
   "id": "0a942d5a",
   "metadata": {},
   "source": [
    "## Plot moving average"
   ]
  },
  {
   "cell_type": "code",
   "execution_count": 58,
   "id": "402146c4",
   "metadata": {},
   "outputs": [
    {
     "data": {
      "image/png": "[encoded data removed]",
      "text/plain": [
       "<Figure size 640x480 with 2 Axes>"
      ]
     },
     "metadata": {},
     "output_type": "display_data"
    }
   ],
   "source": [
    "# Reference on how to create secondary y-axis plot: https://stackoverflow.com/questions/14762181/adding-a-y-axis-label-to-secondary-y-axis-in-matplotlib\n",
    "# Create a figure of 1x1 subplot\n",
    "fig, ax1 = plt.subplots()\n",
    "# Overlap global plot on top of city's\n",
    "ax2 = ax1.twinx()\n",
    "\n",
    "# Create line plot of city moving average temperature\n",
    "cityplt = ax1.plot(moving_avg['year'], moving_avg['city_moving_avg_temp'])\n",
    "globalplt = ax2.plot(moving_avg['year'], moving_avg['global_moving_avg_temp'], color='y')\n",
    "\n",
    "# Add axis labels\n",
    "ax1.set_xlabel('Year')\n",
    "ax1.set_ylabel('City Temperature (F)')\n",
    "ax2.set_ylabel('Global Temperature (F)')\n",
    "\n",
    "# Add plot title\n",
    "plt.title(\"Moving Average Temperature\")\n",
    "\n",
    "# Add legend\n",
    "# Reference on how to add legend to secondary axis plot: https://stackoverflow.com/questions/5484922/secondary-axis-with-twinx-how-to-add-to-legend\n",
    "plt.legend(cityplt+globalplt,['Philadelphia','Global'])\n",
    "\n",
    "# Remove all text above the plot\n",
    "plt.show()"
   ]
  },
  {
   "cell_type": "code",
   "execution_count": null,
   "id": "20f7eda2",
   "metadata": {},
   "outputs": [],
   "source": []
  },
  {
   "cell_type": "code",
   "execution_count": null,
   "id": "1d24b87d",
   "metadata": {},
   "outputs": [],
   "source": []
  }
 ],
 "metadata": {
  "kernelspec": {
   "display_name": "Python 3 (ipykernel)",
   "language": "python",
   "name": "python3"
  },
  "language_info": {
   "codemirror_mode": {
    "name": "ipython",
    "version": 3
   },
   "file_extension": ".py",
   "mimetype": "text/x-python",
   "name": "python",
   "nbconvert_exporter": "python",
   "pygments_lexer": "ipython3",
   "version": "3.9.13"
  }
 },
 "nbformat": 4,
 "nbformat_minor": 5
}
